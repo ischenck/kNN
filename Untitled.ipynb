{
 "cells": [
  {
   "cell_type": "code",
   "execution_count": 1,
   "metadata": {},
   "outputs": [],
   "source": [
    "import pandas as pd\n",
    "import numpy as np\n",
    "import seaborn as sns\n",
    "import matplotlib.pyplot as plt\n",
    "from pathlib import Path\n",
    "from scipy import stats\n",
    "from sklearn.model_selection import GridSearchCV, train_test_split, cross_val_score\n",
    "from sklearn.neighbors import KNeighborsClassifier\n",
    "from sklearn.preprocessing import StandardScaler"
   ]
  },
  {
   "cell_type": "code",
   "execution_count": 2,
   "metadata": {},
   "outputs": [],
   "source": [
    "# load a file that uses , as delimiter\n",
    "def load_file(path, names):\n",
    "    if not path.is_file():\n",
    "        raise FileNotFoundError(str(path))\n",
    "    data = pd.read_csv(path, sep=\",\", names=names, header=None)\n",
    "    return data\n",
    "\n",
    "# load data for hmm\n",
    "def load_df():\n",
    "    cols = [\"Fixed Acidity\", \"Volatile Acidity\",\"Citric Acid\", \"Residual Sugar\", \"Chlorides\", \"Free Sulfur Dioxide\", \"Total Sulfur Dioxide\", \"Density\",\"pH\", \"Sulphates\", \"Alcohol\" , \"Quality\"]\n",
    "    file = Path.cwd() / \"wine_quality.csv\"\n",
    "    return load_file(file, cols)\n",
    "\n",
    "# removes any rows that have empty data slots ie null\n",
    "def remove_empty_rows(data):\n",
    "    data.dropna(axis=0, how='any', thresh=None, subset=None, inplace=True)\n",
    "    return data\n",
    "#removes outliers based on zscore greater than 3\n",
    "def remove_outliers_Zscore(data):\n",
    "    z = np.abs(stats.zscore(data))\n",
    "    data_df_z_out =data[(z<3).all(axis=1)]\n",
    "    return data_df_z_out\n",
    "#romves outliers based on IQR\n",
    "def remove_outliers_IQR(data):\n",
    "    Q1 = data.quantile(.25)\n",
    "    Q3 = data.quantile(.75)\n",
    "    IQR = Q3-Q1\n",
    "    data_df_IQR_out = data[~((data < (Q1 - 1.5 * IQR)) |(data > (Q3 + 1.5 * IQR))).any(axis=1)]\n",
    "    return data_df_IQR_out\n",
    "    \n",
    "#graphs histogram\n",
    "def plotHistogram(data):\n",
    "    data.hist(bins=50, color='steelblue', edgecolor='black', linewidth=1.0,\n",
    "        xlabelsize=8, ylabelsize=8, grid=False)    \n",
    "    return plt.tight_layout(rect=(0, 0, 1.2, 1.2)) \n",
    "\n",
    "#makes a 2d graph comparing all pairs of features in dataframe\n",
    "def plot2dScatter(data):\n",
    "    return sns.pairplot(data,diag_kind=\"kde\")\n",
    "\n",
    "    "
   ]
  },
  {
   "cell_type": "code",
   "execution_count": 3,
   "metadata": {},
   "outputs": [],
   "source": [
    "data = load_df()"
   ]
  },
  {
   "cell_type": "code",
   "execution_count": 4,
   "metadata": {},
   "outputs": [
    {
     "name": "stdout",
     "output_type": "stream",
     "text": [
      "Current datasize before cleaning 4901\n",
      "Number of classes before cleaning data 9\n",
      "Removing outliers using z-score\n",
      "Current data size after removing outliers 4558\n",
      "Number of classes after cleaning data 5\n"
     ]
    }
   ],
   "source": [
    "#uncomment to see histogram of data\n",
    "#hist = plotHistogram(data)\n",
    "print(\"Current datasize before cleaning\" , data.shape[0])\n",
    "data = remove_empty_rows(data)\n",
    "\n",
    "\n",
    "#uncomment to see data b4 cleaning in 2d graph\n",
    "#plot2d = plot2dScatter(data)\n",
    "classes = data.groupby('Quality')\n",
    "print(\"Number of classes before cleaning data\" , classes.sum().shape[0])\n",
    "\n",
    "\n",
    "print(\"Removing outliers using z-score\")\n",
    "\n",
    "#data = remove_outliers_IQR(data)\n",
    "data = remove_outliers_Zscore(data)\n",
    "print(\"Current data size after removing outliers\", data.shape[0])\n",
    "\n",
    "#Uncomment this to look at 2d plot of cleaned data\n",
    "#plot2d = plot2dScatter(data)\n",
    "\n",
    "classes = data.groupby('Quality')\n",
    "print(\"Number of classes after cleaning data\", classes.count().shape[0])\n"
   ]
  },
  {
   "cell_type": "code",
   "execution_count": 5,
   "metadata": {},
   "outputs": [],
   "source": [
    "\n",
    "X = data.drop(columns=[\"Quality\"])\n",
    "y = data[\"Quality\"]"
   ]
  },
  {
   "cell_type": "code",
   "execution_count": 6,
   "metadata": {},
   "outputs": [],
   "source": [
    "X_train, X_test, y_train, y_test = train_test_split(X, y, test_size=0.2, stratify=y)\n",
    "standard_scaler = StandardScaler()\n",
    "X_train = standard_scaler.fit_transform(X_train)\n",
    "X_test = standard_scaler.transform(X_test)"
   ]
  },
  {
   "cell_type": "code",
   "execution_count": 7,
   "metadata": {},
   "outputs": [],
   "source": [
    "k = 4"
   ]
  },
  {
   "cell_type": "code",
   "execution_count": 8,
   "metadata": {},
   "outputs": [
    {
     "data": {
      "text/plain": [
       "KNeighborsClassifier(algorithm='auto', leaf_size=30, metric='minkowski',\n",
       "                     metric_params=None, n_jobs=None, n_neighbors=4, p=2,\n",
       "                     weights='uniform')"
      ]
     },
     "execution_count": 8,
     "metadata": {},
     "output_type": "execute_result"
    }
   ],
   "source": [
    "model = KNeighborsClassifier(n_neighbors=k)\n",
    "model.fit(X_train, y_train)"
   ]
  },
  {
   "cell_type": "code",
   "execution_count": 9,
   "metadata": {},
   "outputs": [
    {
     "data": {
      "text/plain": [
       "array([6., 5., 7., 6., 6., 6., 6., 7., 7., 6., 6., 6., 6., 6., 6., 6., 6.,\n",
       "       5., 5., 5., 6., 6., 5., 6., 6., 7., 7., 6., 5., 6., 6., 6., 5., 5.,\n",
       "       6., 6., 7., 5., 5., 6., 5., 7., 5., 6., 6., 7., 5., 8., 6., 6., 6.,\n",
       "       5., 6., 5., 5., 6., 6., 7., 6., 6., 6., 6., 5., 6., 6., 6., 5., 6.,\n",
       "       5., 5., 7., 5., 5., 7., 6., 6., 6., 5., 5., 6., 5., 7., 5., 5., 5.,\n",
       "       6., 6., 6., 7., 6., 7., 6., 6., 5., 5., 5., 5., 7., 5., 6., 5., 6.,\n",
       "       7., 6., 5., 8., 5., 6., 6., 6., 6., 5., 6., 7., 5., 7., 6., 6., 6.,\n",
       "       6., 6., 6., 5., 7., 5., 5., 5., 6., 6., 7., 6., 5., 6., 5., 5., 6.,\n",
       "       7., 5., 5., 5., 6., 5., 5., 7., 5., 8., 5., 6., 5., 7., 5., 5., 6.,\n",
       "       7., 5., 6., 6., 5., 6., 7., 7., 5., 5., 6., 6., 6., 7., 6., 6., 6.,\n",
       "       6., 7., 5., 5., 7., 5., 4., 5., 6., 5., 7., 5., 6., 5., 7., 5., 5.,\n",
       "       6., 6., 5., 6., 7., 6., 6., 8., 5., 7., 6., 7., 6., 5., 5., 6., 7.,\n",
       "       7., 6., 5., 5., 5., 6., 6., 6., 6., 6., 5., 6., 6., 6., 8., 6., 6.,\n",
       "       6., 5., 6., 6., 5., 7., 5., 7., 6., 5., 6., 5., 5., 4., 6., 5., 5.,\n",
       "       5., 8., 5., 7., 5., 5., 7., 5., 5., 6., 5., 7., 6., 5., 6., 6., 7.,\n",
       "       5., 5., 5., 6., 6., 6., 7., 5., 6., 6., 6., 6., 5., 7., 6., 5., 5.,\n",
       "       7., 5., 7., 6., 7., 6., 5., 6., 5., 6., 4., 5., 7., 6., 7., 7., 6.,\n",
       "       6., 6., 7., 5., 6., 6., 5., 5., 7., 5., 6., 6., 6., 6., 6., 6., 6.,\n",
       "       5., 5., 5., 6., 6., 7., 5., 5., 5., 6., 6., 6., 5., 5., 6., 6., 6.,\n",
       "       6., 6., 6., 5., 6., 6., 6., 4., 6., 6., 6., 7., 7., 6., 6., 5., 6.,\n",
       "       5., 5., 6., 6., 5., 6., 5., 6., 5., 7., 6., 8., 7., 4., 5., 6., 8.,\n",
       "       5., 6., 6., 6., 7., 5., 6., 5., 8., 5., 6., 6., 6., 6., 5., 6., 5.,\n",
       "       5., 6., 6., 7., 5., 5., 5., 5., 7., 6., 6., 5., 6., 6., 7., 6., 5.,\n",
       "       6., 7., 5., 6., 5., 6., 5., 6., 5., 5., 6., 7., 6., 5., 6., 7., 7.,\n",
       "       6., 8., 5., 5., 5., 5., 5., 5., 5., 6., 6., 5., 6., 5., 7., 6., 5.,\n",
       "       6., 5., 7., 5., 5., 7., 5., 6., 6., 5., 6., 6., 7., 5., 6., 7., 6.,\n",
       "       6., 7., 5., 5., 6., 6., 5., 7., 5., 6., 5., 5., 7., 6., 7., 6., 5.,\n",
       "       5., 5., 5., 5., 5., 6., 5., 5., 7., 7., 5., 6., 5., 7., 5., 5., 6.,\n",
       "       6., 6., 6., 6., 5., 6., 6., 7., 6., 6., 5., 5., 6., 6., 6., 6., 5.,\n",
       "       5., 5., 6., 6., 8., 6., 6., 6., 5., 7., 6., 6., 5., 7., 5., 6., 7.,\n",
       "       5., 5., 7., 8., 6., 5., 5., 6., 6., 5., 5., 6., 7., 5., 5., 5., 6.,\n",
       "       6., 7., 5., 7., 5., 5., 5., 5., 5., 7., 6., 5., 5., 5., 6., 5., 7.,\n",
       "       6., 5., 7., 5., 6., 5., 6., 6., 6., 6., 6., 6., 5., 6., 6., 5., 6.,\n",
       "       5., 6., 5., 6., 6., 6., 6., 6., 5., 5., 5., 7., 7., 6., 6., 6., 6.,\n",
       "       6., 6., 6., 5., 7., 5., 5., 7., 8., 6., 6., 5., 4., 6., 6., 5., 8.,\n",
       "       7., 6., 5., 5., 6., 7., 6., 6., 6., 6., 6., 6., 7., 6., 6., 7., 5.,\n",
       "       6., 5., 6., 5., 6., 6., 5., 6., 7., 7., 6., 4., 5., 6., 6., 6., 6.,\n",
       "       6., 7., 6., 4., 6., 5., 5., 6., 5., 5., 7., 6., 6., 6., 6., 6., 5.,\n",
       "       6., 6., 7., 6., 5., 6., 7., 6., 6., 5., 6., 5., 6., 6., 5., 6., 6.,\n",
       "       5., 6., 5., 6., 5., 5., 5., 7., 5., 4., 5., 5., 6., 5., 7., 5., 6.,\n",
       "       7., 5., 5., 6., 5., 7., 5., 5., 5., 8., 6., 5., 6., 6., 6., 5., 6.,\n",
       "       5., 7., 6., 5., 7., 7., 6., 6., 6., 6., 6., 4., 6., 8., 6., 6., 6.,\n",
       "       7., 6., 5., 6., 7., 6., 6., 6., 6., 6., 5., 6., 5., 5., 7., 6., 5.,\n",
       "       5., 6., 5., 6., 6., 5., 5., 6., 5., 6., 6., 8., 5., 6., 6., 6., 5.,\n",
       "       6., 6., 5., 7., 6., 6., 6., 7., 5., 5., 5., 6., 6., 5., 5., 6., 6.,\n",
       "       6., 5., 5., 5., 7., 6., 7., 7., 6., 5., 7., 6., 7., 6., 5., 5., 6.,\n",
       "       5., 7., 5., 5., 6., 5., 6., 6., 5., 5., 6., 4., 5., 5., 6., 4., 5.,\n",
       "       4., 7., 6., 6., 6., 6., 5., 7., 6., 6., 7., 5., 6., 5., 6., 6., 5.,\n",
       "       6., 5., 5., 6., 6., 7., 6., 7., 6., 6., 5., 5., 6., 6., 6., 5., 6.,\n",
       "       5., 6., 5., 7., 8., 7., 6., 7., 4., 7., 6., 5., 6., 6., 6., 6., 8.,\n",
       "       7., 5., 6., 5., 6., 6., 6., 6., 5., 7., 6., 5., 5., 5., 6., 6., 6.,\n",
       "       6., 5., 6., 6., 5., 5., 6., 6., 5., 6., 5., 7., 6., 6., 5., 6., 5.,\n",
       "       6., 5., 5., 6., 6., 6., 6., 5., 6., 5., 5., 7., 6., 5., 8., 5., 4.,\n",
       "       6., 5., 6., 6., 6., 6., 5., 5., 7., 6., 5.])"
      ]
     },
     "execution_count": 9,
     "metadata": {},
     "output_type": "execute_result"
    }
   ],
   "source": [
    "model.predict(X_test)"
   ]
  },
  {
   "cell_type": "code",
   "execution_count": 10,
   "metadata": {},
   "outputs": [
    {
     "name": "stdout",
     "output_type": "stream",
     "text": [
      "Train score: 0.727921009325288\n",
      "Test score: 0.5756578947368421\n"
     ]
    }
   ],
   "source": [
    "train_score = model.score(X_train, y_train)\n",
    "test_score = model.score(X_test, y_test)\n",
    "print(f\"Train score: {train_score}\")\n",
    "print(f\"Test score: {test_score}\")"
   ]
  },
  {
   "cell_type": "code",
   "execution_count": 11,
   "metadata": {},
   "outputs": [
    {
     "data": {
      "text/plain": [
       "array([0.55068493, 0.57064472, 0.56241427, 0.53772291, 0.55281207])"
      ]
     },
     "execution_count": 11,
     "metadata": {},
     "output_type": "execute_result"
    }
   ],
   "source": [
    "score = cross_val_score(model, X_train, y_train, cv=5)\n",
    "score"
   ]
  },
  {
   "cell_type": "code",
   "execution_count": 12,
   "metadata": {},
   "outputs": [
    {
     "data": {
      "text/plain": [
       "array([ 1,  2,  3,  4,  5,  6,  7,  8,  9, 10, 11, 12, 13, 14, 15, 16, 17,\n",
       "       18, 19, 20, 21, 22, 23, 24, 25])"
      ]
     },
     "execution_count": 12,
     "metadata": {},
     "output_type": "execute_result"
    }
   ],
   "source": [
    "np.arange(1, 26, 1) "
   ]
  },
  {
   "cell_type": "code",
   "execution_count": 13,
   "metadata": {},
   "outputs": [
    {
     "name": "stdout",
     "output_type": "stream",
     "text": [
      "Fitting 5 folds for each of 25 candidates, totalling 125 fits\n"
     ]
    },
    {
     "name": "stderr",
     "output_type": "stream",
     "text": [
      "[Parallel(n_jobs=-1)]: Using backend LokyBackend with 4 concurrent workers.\n",
      "[Parallel(n_jobs=-1)]: Done  42 tasks      | elapsed:    3.6s\n",
      "[Parallel(n_jobs=-1)]: Done 125 out of 125 | elapsed:    6.0s finished\n"
     ]
    }
   ],
   "source": [
    "grid_params = {\n",
    "    'n_neighbors': np.arange(1,26,1),\n",
    "}\n",
    "\n",
    "gs = GridSearchCV(KNeighborsClassifier(), grid_params, verbose=1, cv = 5, n_jobs=-1)\n",
    "\n",
    "gs_results = gs.fit(X_train, y_train)"
   ]
  },
  {
   "cell_type": "code",
   "execution_count": 14,
   "metadata": {},
   "outputs": [
    {
     "data": {
      "text/plain": [
       "0.6173889193636862"
      ]
     },
     "execution_count": 14,
     "metadata": {},
     "output_type": "execute_result"
    }
   ],
   "source": [
    "gs_results.best_score_"
   ]
  },
  {
   "cell_type": "code",
   "execution_count": 15,
   "metadata": {},
   "outputs": [
    {
     "data": {
      "text/plain": [
       "{'n_neighbors': 1}"
      ]
     },
     "execution_count": 15,
     "metadata": {},
     "output_type": "execute_result"
    }
   ],
   "source": [
    "gs_results.best_params_"
   ]
  },
  {
   "cell_type": "code",
   "execution_count": null,
   "metadata": {},
   "outputs": [],
   "source": []
  }
 ],
 "metadata": {
  "kernelspec": {
   "display_name": "Python 3",
   "language": "python",
   "name": "python3"
  },
  "language_info": {
   "codemirror_mode": {
    "name": "ipython",
    "version": 3
   },
   "file_extension": ".py",
   "mimetype": "text/x-python",
   "name": "python",
   "nbconvert_exporter": "python",
   "pygments_lexer": "ipython3",
   "version": "3.7.3"
  }
 },
 "nbformat": 4,
 "nbformat_minor": 2
}
