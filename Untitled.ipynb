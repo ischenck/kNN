{
 "cells": [
  {
   "cell_type": "code",
   "execution_count": 2,
   "metadata": {},
   "outputs": [],
   "source": [
    "import pandas as pd\n",
    "import numpy as np\n",
    "import seaborn as sns\n",
    "from pathlib import Path\n",
    "from scipy import stats\n",
    "from sklearn.model_selection import GridSearchCV, train_test_split, cross_val_score\n",
    "from sklearn.neighbors import KNeighborsClassifier\n",
    "from sklearn.preprocessing import StandardScaler"
   ]
  },
  {
   "cell_type": "code",
   "execution_count": 3,
   "metadata": {},
   "outputs": [],
   "source": [
    "# load a file that uses , as delimiter\n",
    "def load_file(path, names):\n",
    "    if not path.is_file():\n",
    "        raise FileNotFoundError(str(path))\n",
    "    data = pd.read_csv(path, sep=\",\", names=names, header=None)\n",
    "    return data\n",
    "\n",
    "# load data for hmm\n",
    "def load_df():\n",
    "    cols = [\"Fixed Acidity\", \"Volatile Acidity\",\"Citric Acid\", \"Residual Sugar\", \"Chlorides\", \"Free Sulfur Dioxide\", \"Total Sulfur Dioxide\", \"Density\",\"pH\", \"Sulphates\", \"Alcohol\" , \"Quality\"]\n",
    "    file = Path.cwd() / \"wine_quality.csv\"\n",
    "    return load_file(file, cols)\n",
    "\n",
    "# removes any rows that have empty data slots ie null\n",
    "def remove_empty_rows(data):\n",
    "    data.dropna(axis=0, how='any', thresh=None, subset=None, inplace=True)\n",
    "    return data\n",
    "\n",
    "def remove_outliers(data):\n",
    "    z = np.abs(stats.zscore(data))\n",
    "    return data[(z<3).all(axis=1)]"
   ]
  },
  {
   "cell_type": "code",
   "execution_count": 4,
   "metadata": {},
   "outputs": [
    {
     "data": {
      "text/html": [
       "<div>\n",
       "<style scoped>\n",
       "    .dataframe tbody tr th:only-of-type {\n",
       "        vertical-align: middle;\n",
       "    }\n",
       "\n",
       "    .dataframe tbody tr th {\n",
       "        vertical-align: top;\n",
       "    }\n",
       "\n",
       "    .dataframe thead th {\n",
       "        text-align: right;\n",
       "    }\n",
       "</style>\n",
       "<table border=\"1\" class=\"dataframe\">\n",
       "  <thead>\n",
       "    <tr style=\"text-align: right;\">\n",
       "      <th></th>\n",
       "      <th>Fixed Acidity</th>\n",
       "      <th>Volatile Acidity</th>\n",
       "      <th>Citric Acid</th>\n",
       "      <th>Residual Sugar</th>\n",
       "      <th>Chlorides</th>\n",
       "      <th>Free Sulfur Dioxide</th>\n",
       "      <th>Total Sulfur Dioxide</th>\n",
       "      <th>Density</th>\n",
       "      <th>pH</th>\n",
       "      <th>Sulphates</th>\n",
       "      <th>Alcohol</th>\n",
       "      <th>Quality</th>\n",
       "    </tr>\n",
       "  </thead>\n",
       "  <tbody>\n",
       "    <tr>\n",
       "      <td>0</td>\n",
       "      <td>7.0</td>\n",
       "      <td>0.270</td>\n",
       "      <td>0.36</td>\n",
       "      <td>20.70</td>\n",
       "      <td>0.045</td>\n",
       "      <td>45.0</td>\n",
       "      <td>170.0</td>\n",
       "      <td>1.00100</td>\n",
       "      <td>3.00</td>\n",
       "      <td>0.45</td>\n",
       "      <td>8.8</td>\n",
       "      <td>6.0</td>\n",
       "    </tr>\n",
       "    <tr>\n",
       "      <td>1</td>\n",
       "      <td>7.2</td>\n",
       "      <td>0.230</td>\n",
       "      <td>0.32</td>\n",
       "      <td>8.50</td>\n",
       "      <td>0.058</td>\n",
       "      <td>47.0</td>\n",
       "      <td>186.0</td>\n",
       "      <td>0.99560</td>\n",
       "      <td>3.19</td>\n",
       "      <td>0.40</td>\n",
       "      <td>9.9</td>\n",
       "      <td>6.0</td>\n",
       "    </tr>\n",
       "    <tr>\n",
       "      <td>2</td>\n",
       "      <td>7.2</td>\n",
       "      <td>0.230</td>\n",
       "      <td>0.32</td>\n",
       "      <td>8.50</td>\n",
       "      <td>0.058</td>\n",
       "      <td>47.0</td>\n",
       "      <td>186.0</td>\n",
       "      <td>0.99560</td>\n",
       "      <td>3.19</td>\n",
       "      <td>0.40</td>\n",
       "      <td>9.9</td>\n",
       "      <td>6.0</td>\n",
       "    </tr>\n",
       "    <tr>\n",
       "      <td>3</td>\n",
       "      <td>7.0</td>\n",
       "      <td>0.270</td>\n",
       "      <td>0.36</td>\n",
       "      <td>20.70</td>\n",
       "      <td>0.045</td>\n",
       "      <td>45.0</td>\n",
       "      <td>170.0</td>\n",
       "      <td>1.00100</td>\n",
       "      <td>3.00</td>\n",
       "      <td>0.45</td>\n",
       "      <td>8.8</td>\n",
       "      <td>6.0</td>\n",
       "    </tr>\n",
       "    <tr>\n",
       "      <td>4</td>\n",
       "      <td>6.3</td>\n",
       "      <td>0.300</td>\n",
       "      <td>0.34</td>\n",
       "      <td>1.60</td>\n",
       "      <td>0.049</td>\n",
       "      <td>14.0</td>\n",
       "      <td>132.0</td>\n",
       "      <td>0.99400</td>\n",
       "      <td>3.30</td>\n",
       "      <td>0.49</td>\n",
       "      <td>9.5</td>\n",
       "      <td>6.0</td>\n",
       "    </tr>\n",
       "    <tr>\n",
       "      <td>...</td>\n",
       "      <td>...</td>\n",
       "      <td>...</td>\n",
       "      <td>...</td>\n",
       "      <td>...</td>\n",
       "      <td>...</td>\n",
       "      <td>...</td>\n",
       "      <td>...</td>\n",
       "      <td>...</td>\n",
       "      <td>...</td>\n",
       "      <td>...</td>\n",
       "      <td>...</td>\n",
       "      <td>...</td>\n",
       "    </tr>\n",
       "    <tr>\n",
       "      <td>4896</td>\n",
       "      <td>4.9</td>\n",
       "      <td>0.235</td>\n",
       "      <td>0.27</td>\n",
       "      <td>11.75</td>\n",
       "      <td>0.030</td>\n",
       "      <td>34.0</td>\n",
       "      <td>118.0</td>\n",
       "      <td>0.99540</td>\n",
       "      <td>3.07</td>\n",
       "      <td>0.50</td>\n",
       "      <td>9.4</td>\n",
       "      <td>6.0</td>\n",
       "    </tr>\n",
       "    <tr>\n",
       "      <td>4897</td>\n",
       "      <td>6.1</td>\n",
       "      <td>0.340</td>\n",
       "      <td>0.29</td>\n",
       "      <td>2.20</td>\n",
       "      <td>0.036</td>\n",
       "      <td>25.0</td>\n",
       "      <td>100.0</td>\n",
       "      <td>0.98938</td>\n",
       "      <td>3.06</td>\n",
       "      <td>0.44</td>\n",
       "      <td>11.8</td>\n",
       "      <td>6.0</td>\n",
       "    </tr>\n",
       "    <tr>\n",
       "      <td>4898</td>\n",
       "      <td>5.7</td>\n",
       "      <td>0.210</td>\n",
       "      <td>0.32</td>\n",
       "      <td>0.90</td>\n",
       "      <td>0.038</td>\n",
       "      <td>38.0</td>\n",
       "      <td>121.0</td>\n",
       "      <td>0.99074</td>\n",
       "      <td>3.24</td>\n",
       "      <td>0.46</td>\n",
       "      <td>10.6</td>\n",
       "      <td>6.0</td>\n",
       "    </tr>\n",
       "    <tr>\n",
       "      <td>4899</td>\n",
       "      <td>6.5</td>\n",
       "      <td>0.230</td>\n",
       "      <td>0.38</td>\n",
       "      <td>1.30</td>\n",
       "      <td>0.032</td>\n",
       "      <td>29.0</td>\n",
       "      <td>112.0</td>\n",
       "      <td>0.99298</td>\n",
       "      <td>3.29</td>\n",
       "      <td>0.54</td>\n",
       "      <td>9.7</td>\n",
       "      <td>5.0</td>\n",
       "    </tr>\n",
       "    <tr>\n",
       "      <td>4900</td>\n",
       "      <td>6.5</td>\n",
       "      <td>0.240</td>\n",
       "      <td>0.19</td>\n",
       "      <td>1.20</td>\n",
       "      <td>0.041</td>\n",
       "      <td>30.0</td>\n",
       "      <td>111.0</td>\n",
       "      <td>0.99254</td>\n",
       "      <td>2.99</td>\n",
       "      <td>0.46</td>\n",
       "      <td>9.4</td>\n",
       "      <td>6.0</td>\n",
       "    </tr>\n",
       "  </tbody>\n",
       "</table>\n",
       "<p>4901 rows × 12 columns</p>\n",
       "</div>"
      ],
      "text/plain": [
       "      Fixed Acidity  Volatile Acidity  Citric Acid  Residual Sugar  Chlorides  \\\n",
       "0               7.0             0.270         0.36           20.70      0.045   \n",
       "1               7.2             0.230         0.32            8.50      0.058   \n",
       "2               7.2             0.230         0.32            8.50      0.058   \n",
       "3               7.0             0.270         0.36           20.70      0.045   \n",
       "4               6.3             0.300         0.34            1.60      0.049   \n",
       "...             ...               ...          ...             ...        ...   \n",
       "4896            4.9             0.235         0.27           11.75      0.030   \n",
       "4897            6.1             0.340         0.29            2.20      0.036   \n",
       "4898            5.7             0.210         0.32            0.90      0.038   \n",
       "4899            6.5             0.230         0.38            1.30      0.032   \n",
       "4900            6.5             0.240         0.19            1.20      0.041   \n",
       "\n",
       "      Free Sulfur Dioxide  Total Sulfur Dioxide  Density    pH  Sulphates  \\\n",
       "0                    45.0                 170.0  1.00100  3.00       0.45   \n",
       "1                    47.0                 186.0  0.99560  3.19       0.40   \n",
       "2                    47.0                 186.0  0.99560  3.19       0.40   \n",
       "3                    45.0                 170.0  1.00100  3.00       0.45   \n",
       "4                    14.0                 132.0  0.99400  3.30       0.49   \n",
       "...                   ...                   ...      ...   ...        ...   \n",
       "4896                 34.0                 118.0  0.99540  3.07       0.50   \n",
       "4897                 25.0                 100.0  0.98938  3.06       0.44   \n",
       "4898                 38.0                 121.0  0.99074  3.24       0.46   \n",
       "4899                 29.0                 112.0  0.99298  3.29       0.54   \n",
       "4900                 30.0                 111.0  0.99254  2.99       0.46   \n",
       "\n",
       "      Alcohol  Quality  \n",
       "0         8.8      6.0  \n",
       "1         9.9      6.0  \n",
       "2         9.9      6.0  \n",
       "3         8.8      6.0  \n",
       "4         9.5      6.0  \n",
       "...       ...      ...  \n",
       "4896      9.4      6.0  \n",
       "4897     11.8      6.0  \n",
       "4898     10.6      6.0  \n",
       "4899      9.7      5.0  \n",
       "4900      9.4      6.0  \n",
       "\n",
       "[4901 rows x 12 columns]"
      ]
     },
     "execution_count": 4,
     "metadata": {},
     "output_type": "execute_result"
    }
   ],
   "source": [
    "data = load_df()\n",
    "#sns.boxplot(x=data[\"Fixed Acidity\"])\n",
    "data"
   ]
  },
  {
   "cell_type": "code",
   "execution_count": 5,
   "metadata": {},
   "outputs": [
    {
     "data": {
      "text/plain": [
       "(4900, 12)"
      ]
     },
     "execution_count": 5,
     "metadata": {},
     "output_type": "execute_result"
    }
   ],
   "source": [
    "data = remove_empty_rows(data)\n",
    "data.shape"
   ]
  },
  {
   "cell_type": "code",
   "execution_count": 6,
   "metadata": {},
   "outputs": [
    {
     "data": {
      "text/plain": [
       "(4558, 12)"
      ]
     },
     "execution_count": 6,
     "metadata": {},
     "output_type": "execute_result"
    }
   ],
   "source": [
    "data = remove_outliers(data)\n",
    "data.shape"
   ]
  },
  {
   "cell_type": "code",
   "execution_count": 7,
   "metadata": {},
   "outputs": [],
   "source": [
    "X = data.drop(columns=[\"Quality\"])\n",
    "y = data[\"Quality\"]"
   ]
  },
  {
   "cell_type": "code",
   "execution_count": 8,
   "metadata": {},
   "outputs": [],
   "source": [
    "X_train, X_test, y_train, y_test = train_test_split(X, y, test_size=0.2, stratify=y)\n",
    "standard_scaler = StandardScaler()\n",
    "X_train = standard_scaler.fit_transform(X_train)\n",
    "X_test = standard_scaler.transform(X_test)"
   ]
  },
  {
   "cell_type": "code",
   "execution_count": 9,
   "metadata": {},
   "outputs": [],
   "source": [
    "k = 4"
   ]
  },
  {
   "cell_type": "code",
   "execution_count": 10,
   "metadata": {},
   "outputs": [
    {
     "data": {
      "text/plain": [
       "KNeighborsClassifier(algorithm='auto', leaf_size=30, metric='minkowski',\n",
       "                     metric_params=None, n_jobs=None, n_neighbors=4, p=2,\n",
       "                     weights='uniform')"
      ]
     },
     "execution_count": 10,
     "metadata": {},
     "output_type": "execute_result"
    }
   ],
   "source": [
    "model = KNeighborsClassifier(n_neighbors=k)\n",
    "model.fit(X_train, y_train)"
   ]
  },
  {
   "cell_type": "code",
   "execution_count": 11,
   "metadata": {},
   "outputs": [
    {
     "data": {
      "text/plain": [
       "array([5., 6., 6., 7., 7., 7., 7., 5., 7., 5., 7., 5., 7., 5., 6., 6., 4.,\n",
       "       6., 6., 5., 6., 7., 5., 7., 6., 7., 5., 5., 6., 6., 6., 5., 5., 5.,\n",
       "       5., 5., 6., 5., 6., 6., 6., 6., 6., 5., 5., 6., 6., 5., 5., 6., 6.,\n",
       "       6., 7., 6., 5., 7., 5., 6., 6., 6., 6., 6., 7., 5., 5., 5., 6., 6.,\n",
       "       6., 6., 5., 6., 8., 7., 5., 8., 4., 6., 7., 5., 5., 6., 5., 7., 5.,\n",
       "       6., 6., 5., 5., 6., 8., 6., 4., 5., 5., 5., 6., 5., 5., 7., 5., 6.,\n",
       "       6., 5., 5., 6., 5., 6., 5., 6., 5., 7., 5., 6., 6., 6., 4., 5., 7.,\n",
       "       5., 6., 5., 5., 5., 6., 5., 5., 6., 5., 6., 7., 6., 5., 7., 6., 5.,\n",
       "       7., 5., 6., 5., 5., 6., 7., 6., 5., 5., 5., 5., 5., 6., 6., 5., 5.,\n",
       "       7., 5., 6., 5., 6., 7., 5., 6., 6., 5., 4., 5., 6., 7., 5., 6., 6.,\n",
       "       5., 6., 7., 6., 6., 6., 6., 6., 5., 6., 5., 6., 5., 5., 6., 6., 5.,\n",
       "       7., 6., 6., 7., 4., 5., 5., 4., 6., 5., 5., 5., 5., 6., 6., 6., 7.,\n",
       "       6., 5., 5., 7., 6., 6., 6., 6., 5., 6., 5., 7., 7., 8., 7., 6., 5.,\n",
       "       6., 5., 5., 6., 5., 8., 6., 6., 7., 6., 6., 6., 7., 5., 5., 6., 6.,\n",
       "       6., 5., 5., 5., 5., 6., 6., 7., 5., 5., 6., 5., 5., 7., 7., 6., 5.,\n",
       "       6., 5., 6., 5., 5., 7., 6., 5., 6., 7., 5., 6., 6., 6., 6., 6., 5.,\n",
       "       5., 6., 5., 8., 6., 5., 5., 5., 6., 6., 5., 5., 7., 6., 5., 5., 5.,\n",
       "       6., 6., 5., 6., 5., 6., 5., 7., 7., 5., 6., 5., 6., 5., 6., 6., 6.,\n",
       "       6., 5., 5., 5., 6., 7., 6., 6., 6., 5., 6., 6., 6., 6., 6., 6., 5.,\n",
       "       5., 5., 7., 6., 7., 6., 5., 6., 5., 5., 6., 6., 5., 6., 5., 6., 6.,\n",
       "       6., 6., 5., 6., 7., 6., 6., 6., 6., 5., 6., 6., 5., 6., 6., 5., 7.,\n",
       "       6., 6., 7., 5., 5., 8., 6., 5., 6., 6., 6., 7., 7., 5., 6., 6., 5.,\n",
       "       6., 6., 6., 6., 5., 7., 5., 6., 5., 7., 6., 5., 7., 6., 6., 6., 6.,\n",
       "       5., 6., 7., 6., 7., 5., 7., 6., 6., 6., 7., 6., 7., 6., 5., 7., 5.,\n",
       "       4., 5., 6., 5., 6., 6., 5., 6., 6., 6., 7., 6., 6., 5., 6., 5., 6.,\n",
       "       6., 7., 6., 5., 5., 6., 6., 7., 6., 6., 7., 7., 6., 7., 5., 5., 5.,\n",
       "       5., 5., 6., 6., 5., 5., 6., 6., 6., 5., 5., 5., 6., 6., 5., 6., 6.,\n",
       "       6., 5., 6., 6., 6., 6., 5., 6., 6., 6., 5., 6., 6., 7., 6., 5., 5.,\n",
       "       6., 5., 6., 6., 6., 7., 6., 5., 6., 6., 6., 6., 5., 6., 6., 5., 5.,\n",
       "       7., 6., 5., 8., 6., 6., 7., 5., 6., 4., 7., 6., 5., 6., 6., 6., 6.,\n",
       "       6., 5., 6., 6., 6., 6., 6., 7., 5., 5., 6., 6., 4., 7., 6., 5., 5.,\n",
       "       5., 7., 5., 8., 6., 6., 6., 6., 6., 5., 6., 7., 5., 5., 5., 6., 6.,\n",
       "       4., 5., 6., 5., 6., 6., 6., 6., 6., 7., 6., 4., 6., 6., 5., 5., 6.,\n",
       "       7., 5., 6., 6., 6., 7., 5., 5., 7., 7., 5., 6., 6., 6., 5., 7., 6.,\n",
       "       7., 5., 6., 6., 5., 7., 7., 6., 6., 5., 7., 5., 5., 5., 5., 6., 5.,\n",
       "       6., 7., 5., 6., 5., 6., 5., 7., 6., 6., 7., 5., 6., 7., 7., 5., 6.,\n",
       "       6., 6., 6., 7., 5., 7., 6., 5., 7., 5., 6., 4., 6., 6., 5., 7., 6.,\n",
       "       7., 7., 6., 7., 5., 6., 7., 5., 8., 5., 7., 5., 6., 6., 6., 4., 6.,\n",
       "       8., 5., 5., 5., 6., 5., 6., 5., 6., 6., 6., 5., 6., 6., 6., 5., 6.,\n",
       "       6., 5., 5., 7., 5., 6., 6., 6., 7., 5., 5., 6., 5., 7., 7., 6., 5.,\n",
       "       5., 8., 5., 6., 5., 5., 6., 7., 5., 5., 7., 7., 5., 5., 6., 6., 5.,\n",
       "       5., 4., 6., 7., 5., 6., 5., 5., 7., 5., 6., 5., 6., 5., 4., 7., 6.,\n",
       "       5., 7., 6., 5., 6., 6., 6., 5., 5., 7., 6., 5., 7., 5., 6., 5., 5.,\n",
       "       5., 6., 6., 5., 6., 5., 6., 6., 5., 6., 6., 6., 5., 5., 5., 5., 5.,\n",
       "       6., 6., 6., 6., 6., 6., 6., 7., 6., 5., 6., 6., 7., 5., 4., 6., 6.,\n",
       "       5., 7., 6., 6., 6., 4., 4., 6., 5., 6., 5., 5., 5., 5., 8., 5., 5.,\n",
       "       5., 7., 5., 5., 5., 6., 5., 5., 5., 7., 5., 7., 5., 6., 5., 7., 5.,\n",
       "       6., 7., 5., 6., 6., 6., 5., 5., 6., 4., 6., 7., 6., 6., 5., 6., 6.,\n",
       "       5., 8., 5., 7., 6., 6., 6., 5., 6., 6., 5., 5., 6., 7., 5., 7., 5.,\n",
       "       5., 5., 6., 5., 5., 6., 5., 6., 5., 6., 5., 5., 4., 5., 5., 5., 5.,\n",
       "       6., 6., 7., 5., 7., 6., 6., 6., 6., 6., 7., 6., 5., 6., 6., 5., 6.,\n",
       "       5., 5., 6., 6., 7., 6., 5., 6., 6., 5., 6., 5., 6., 6., 7., 7., 5.,\n",
       "       6., 5., 5., 6., 6., 7., 5., 6., 6., 6., 5., 5., 7., 5., 5., 5., 6.,\n",
       "       5., 5., 5., 7., 5., 5., 6., 7., 7., 4., 7.])"
      ]
     },
     "execution_count": 11,
     "metadata": {},
     "output_type": "execute_result"
    }
   ],
   "source": [
    "model.predict(X_test)"
   ]
  },
  {
   "cell_type": "code",
   "execution_count": 12,
   "metadata": {},
   "outputs": [
    {
     "name": "stdout",
     "output_type": "stream",
     "text": [
      "Train score: 0.7174986286341196\n",
      "Test score: 0.5723684210526315\n"
     ]
    }
   ],
   "source": [
    "train_score = model.score(X_train, y_train)\n",
    "test_score = model.score(X_test, y_test)\n",
    "print(f\"Train score: {train_score}\")\n",
    "print(f\"Test score: {test_score}\")"
   ]
  },
  {
   "cell_type": "code",
   "execution_count": 13,
   "metadata": {},
   "outputs": [
    {
     "data": {
      "text/plain": [
       "array([0.55479452, 0.53223594, 0.5473251 , 0.55144033, 0.54458162])"
      ]
     },
     "execution_count": 13,
     "metadata": {},
     "output_type": "execute_result"
    }
   ],
   "source": [
    "score = cross_val_score(model, X_train, y_train, cv=5)\n",
    "score"
   ]
  },
  {
   "cell_type": "code",
   "execution_count": 63,
   "metadata": {},
   "outputs": [
    {
     "data": {
      "text/plain": [
       "array([ 1,  2,  3,  4,  5,  6,  7,  8,  9, 10, 11, 12, 13, 14, 15, 16, 17,\n",
       "       18, 19, 20, 21, 22, 23, 24, 25])"
      ]
     },
     "execution_count": 63,
     "metadata": {},
     "output_type": "execute_result"
    }
   ],
   "source": [
    "np.arange(1, 26, 1) "
   ]
  },
  {
   "cell_type": "code",
   "execution_count": 64,
   "metadata": {},
   "outputs": [
    {
     "name": "stdout",
     "output_type": "stream",
     "text": [
      "Fitting 5 folds for each of 25 candidates, totalling 125 fits\n"
     ]
    },
    {
     "name": "stderr",
     "output_type": "stream",
     "text": [
      "[Parallel(n_jobs=-1)]: Using backend LokyBackend with 8 concurrent workers.\n",
      "[Parallel(n_jobs=-1)]: Done  34 tasks      | elapsed:    3.0s\n",
      "[Parallel(n_jobs=-1)]: Done 125 out of 125 | elapsed:    4.8s finished\n"
     ]
    }
   ],
   "source": [
    "grid_params = {\n",
    "    'n_neighbors': np.arange(1,26,1),\n",
    "}\n",
    "\n",
    "gs = GridSearchCV(KNeighborsClassifier(), grid_params, verbose=1, cv = 5, n_jobs=-1)\n",
    "\n",
    "gs_results = gs.fit(X_train, y_train)"
   ]
  },
  {
   "cell_type": "code",
   "execution_count": 65,
   "metadata": {},
   "outputs": [
    {
     "data": {
      "text/plain": [
       "0.6220515633571037"
      ]
     },
     "execution_count": 65,
     "metadata": {},
     "output_type": "execute_result"
    }
   ],
   "source": [
    "gs_results.best_score_"
   ]
  },
  {
   "cell_type": "code",
   "execution_count": 66,
   "metadata": {},
   "outputs": [
    {
     "data": {
      "text/plain": [
       "{'n_neighbors': 1}"
      ]
     },
     "execution_count": 66,
     "metadata": {},
     "output_type": "execute_result"
    }
   ],
   "source": [
    "gs_results.best_params_"
   ]
  },
  {
   "cell_type": "code",
   "execution_count": null,
   "metadata": {},
   "outputs": [],
   "source": []
  }
 ],
 "metadata": {
  "kernelspec": {
   "display_name": "Python 3",
   "language": "python",
   "name": "python3"
  },
  "language_info": {
   "codemirror_mode": {
    "name": "ipython",
    "version": 3
   },
   "file_extension": ".py",
   "mimetype": "text/x-python",
   "name": "python",
   "nbconvert_exporter": "python",
   "pygments_lexer": "ipython3",
   "version": "3.7.4"
  }
 },
 "nbformat": 4,
 "nbformat_minor": 2
}
